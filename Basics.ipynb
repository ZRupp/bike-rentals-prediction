{
 "cells": [
  {
   "cell_type": "markdown",
   "metadata": {
    "collapsed": true
   },
   "source": [
    "# Predicting Bike Rentals\n",
    "\n",
    "The purpose of this project is to predict the total number of bikes people rent in a given hour. The dataset we'll be using is from Washington, D.C.'s data on their bike sharing program. The data was compiled into a CSV file by [Hadi Fanaee-T](http://folk.uio.no/hadift/).\n",
    "\n",
    "Here are the descriptions for the relevant columns for this project:\n",
    "\n",
    "\n",
    "- instant: A unique sequential ID number for each row\n",
    "- dteday: The date of the rentals\n",
    "- season: The season in which the rentals occurred\n",
    "- yr: The year the rentals occurred\n",
    "- mnth: The month the rentals occurred\n",
    "- hr: The hour the rentals occurred\n",
    "- holiday: Whether or not the day was a holiday\n",
    "- weekday: The day of the week (as a number, 0 to 7)\n",
    "- workingday: Whether or not the day was a working day\n",
    "- weathersit: The weather (as a categorical variable)\n",
    "- temp: The temperature, on a 0-1 scale\n",
    "- atemp: The adjusted temperature\n",
    "- hum: The humidity, on a 0-1 scale\n",
    "- windspeed: The wind speed, on a 0-1 scale\n",
    "- casual: The number of casual riders (people who hadn't previously signed up with the bike sharing program)\n",
    "- registered: The number of registered riders (people who had already signed up)\n",
    "- cnt: The total number of bike rentals (casual + registered)"
   ]
  },
  {
   "cell_type": "markdown",
   "metadata": {},
   "source": [
    "# Importing the Data"
   ]
  },
  {
   "cell_type": "code",
   "execution_count": 1,
   "metadata": {},
   "outputs": [
    {
     "name": "stdout",
     "output_type": "stream",
     "text": [
      "(17379, 17)\n"
     ]
    },
    {
     "data": {
      "text/html": [
       "<div>\n",
       "<style scoped>\n",
       "    .dataframe tbody tr th:only-of-type {\n",
       "        vertical-align: middle;\n",
       "    }\n",
       "\n",
       "    .dataframe tbody tr th {\n",
       "        vertical-align: top;\n",
       "    }\n",
       "\n",
       "    .dataframe thead th {\n",
       "        text-align: right;\n",
       "    }\n",
       "</style>\n",
       "<table border=\"1\" class=\"dataframe\">\n",
       "  <thead>\n",
       "    <tr style=\"text-align: right;\">\n",
       "      <th></th>\n",
       "      <th>instant</th>\n",
       "      <th>dteday</th>\n",
       "      <th>season</th>\n",
       "      <th>yr</th>\n",
       "      <th>mnth</th>\n",
       "      <th>hr</th>\n",
       "      <th>holiday</th>\n",
       "      <th>weekday</th>\n",
       "      <th>workingday</th>\n",
       "      <th>weathersit</th>\n",
       "      <th>temp</th>\n",
       "      <th>atemp</th>\n",
       "      <th>hum</th>\n",
       "      <th>windspeed</th>\n",
       "      <th>casual</th>\n",
       "      <th>registered</th>\n",
       "      <th>cnt</th>\n",
       "    </tr>\n",
       "  </thead>\n",
       "  <tbody>\n",
       "    <tr>\n",
       "      <th>0</th>\n",
       "      <td>1</td>\n",
       "      <td>2011-01-01</td>\n",
       "      <td>1</td>\n",
       "      <td>0</td>\n",
       "      <td>1</td>\n",
       "      <td>0</td>\n",
       "      <td>0</td>\n",
       "      <td>6</td>\n",
       "      <td>0</td>\n",
       "      <td>1</td>\n",
       "      <td>0.24</td>\n",
       "      <td>0.2879</td>\n",
       "      <td>0.81</td>\n",
       "      <td>0.0</td>\n",
       "      <td>3</td>\n",
       "      <td>13</td>\n",
       "      <td>16</td>\n",
       "    </tr>\n",
       "    <tr>\n",
       "      <th>1</th>\n",
       "      <td>2</td>\n",
       "      <td>2011-01-01</td>\n",
       "      <td>1</td>\n",
       "      <td>0</td>\n",
       "      <td>1</td>\n",
       "      <td>1</td>\n",
       "      <td>0</td>\n",
       "      <td>6</td>\n",
       "      <td>0</td>\n",
       "      <td>1</td>\n",
       "      <td>0.22</td>\n",
       "      <td>0.2727</td>\n",
       "      <td>0.80</td>\n",
       "      <td>0.0</td>\n",
       "      <td>8</td>\n",
       "      <td>32</td>\n",
       "      <td>40</td>\n",
       "    </tr>\n",
       "    <tr>\n",
       "      <th>2</th>\n",
       "      <td>3</td>\n",
       "      <td>2011-01-01</td>\n",
       "      <td>1</td>\n",
       "      <td>0</td>\n",
       "      <td>1</td>\n",
       "      <td>2</td>\n",
       "      <td>0</td>\n",
       "      <td>6</td>\n",
       "      <td>0</td>\n",
       "      <td>1</td>\n",
       "      <td>0.22</td>\n",
       "      <td>0.2727</td>\n",
       "      <td>0.80</td>\n",
       "      <td>0.0</td>\n",
       "      <td>5</td>\n",
       "      <td>27</td>\n",
       "      <td>32</td>\n",
       "    </tr>\n",
       "    <tr>\n",
       "      <th>3</th>\n",
       "      <td>4</td>\n",
       "      <td>2011-01-01</td>\n",
       "      <td>1</td>\n",
       "      <td>0</td>\n",
       "      <td>1</td>\n",
       "      <td>3</td>\n",
       "      <td>0</td>\n",
       "      <td>6</td>\n",
       "      <td>0</td>\n",
       "      <td>1</td>\n",
       "      <td>0.24</td>\n",
       "      <td>0.2879</td>\n",
       "      <td>0.75</td>\n",
       "      <td>0.0</td>\n",
       "      <td>3</td>\n",
       "      <td>10</td>\n",
       "      <td>13</td>\n",
       "    </tr>\n",
       "    <tr>\n",
       "      <th>4</th>\n",
       "      <td>5</td>\n",
       "      <td>2011-01-01</td>\n",
       "      <td>1</td>\n",
       "      <td>0</td>\n",
       "      <td>1</td>\n",
       "      <td>4</td>\n",
       "      <td>0</td>\n",
       "      <td>6</td>\n",
       "      <td>0</td>\n",
       "      <td>1</td>\n",
       "      <td>0.24</td>\n",
       "      <td>0.2879</td>\n",
       "      <td>0.75</td>\n",
       "      <td>0.0</td>\n",
       "      <td>0</td>\n",
       "      <td>1</td>\n",
       "      <td>1</td>\n",
       "    </tr>\n",
       "  </tbody>\n",
       "</table>\n",
       "</div>"
      ],
      "text/plain": [
       "   instant      dteday  season  yr  mnth  hr  holiday  weekday  workingday  \\\n",
       "0        1  2011-01-01       1   0     1   0        0        6           0   \n",
       "1        2  2011-01-01       1   0     1   1        0        6           0   \n",
       "2        3  2011-01-01       1   0     1   2        0        6           0   \n",
       "3        4  2011-01-01       1   0     1   3        0        6           0   \n",
       "4        5  2011-01-01       1   0     1   4        0        6           0   \n",
       "\n",
       "   weathersit  temp   atemp   hum  windspeed  casual  registered  cnt  \n",
       "0           1  0.24  0.2879  0.81        0.0       3          13   16  \n",
       "1           1  0.22  0.2727  0.80        0.0       8          32   40  \n",
       "2           1  0.22  0.2727  0.80        0.0       5          27   32  \n",
       "3           1  0.24  0.2879  0.75        0.0       3          10   13  \n",
       "4           1  0.24  0.2879  0.75        0.0       0           1    1  "
      ]
     },
     "execution_count": 1,
     "metadata": {},
     "output_type": "execute_result"
    }
   ],
   "source": [
    "import pandas as pd\n",
    "\n",
    "bike_rentals = pd.read_csv('bike_rental_hour.csv')\n",
    "\n",
    "print(bike_rentals.shape)\n",
    "bike_rentals.head()"
   ]
  },
  {
   "cell_type": "code",
   "execution_count": 2,
   "metadata": {},
   "outputs": [
    {
     "data": {
      "image/png": "[encoded data removed]",
      "text/plain": [
       "<Figure size 432x288 with 1 Axes>"
      ]
     },
     "metadata": {},
     "output_type": "display_data"
    }
   ],
   "source": [
    "import matplotlib.pyplot as plt\n",
    "import matplotlib.style as style\n",
    "import seaborn as sns\n",
    "%matplotlib inline\n",
    "\n",
    "style.use('fivethirtyeight')\n",
    "\n",
    "sns.distplot(bike_rentals['cnt'], bins=10, kde=False, norm_hist=False, axlabel='Number of Rentals')\n",
    "plt.ylabel('Frequency')\n",
    "plt.title('Distribution of Bike Rentals by Hour')\n",
    "\n",
    "plt.show()"
   ]
  },
  {
   "cell_type": "markdown",
   "metadata": {},
   "source": [
    "Most hours in the dataset report the number of rentals as being between 0 and 100. The data is strongly skewed to the right, which means we have outliers at the extreme end of the spectrum."
   ]
  },
  {
   "cell_type": "code",
   "execution_count": 3,
   "metadata": {},
   "outputs": [
    {
     "data": {
      "text/plain": [
       "instant       0.278379\n",
       "season        0.178056\n",
       "yr            0.250495\n",
       "mnth          0.120638\n",
       "hr            0.394071\n",
       "holiday      -0.030927\n",
       "weekday       0.026900\n",
       "workingday    0.030284\n",
       "weathersit   -0.142426\n",
       "temp          0.404772\n",
       "atemp         0.400929\n",
       "hum          -0.322911\n",
       "windspeed     0.093234\n",
       "casual        0.694564\n",
       "registered    0.972151\n",
       "cnt           1.000000\n",
       "Name: cnt, dtype: float64"
      ]
     },
     "execution_count": 3,
     "metadata": {},
     "output_type": "execute_result"
    }
   ],
   "source": [
    "bike_rentals.corr()['cnt']"
   ]
  },
  {
   "cell_type": "markdown",
   "metadata": {},
   "source": [
    "Columns worth exploring:\n",
    "\n",
    "- instant: Meaningless, since this column is essentially the index\n",
    "- season: Isn't very high, but it is significant\n",
    "- yr: Relatively high. Worth investigating\n",
    "- mnth: Not very high, but potentially significant. Suspect this column is redundant as it likely correlates strongly with season\n",
    "- hr: Strong correlation. Bundling hours into morning, afternoon, evening, and night might yield better predictions\n",
    "- weathersit: Makes sense this would be correlated (doubt many would enjoy riding in the rain)\n",
    "- temp: Highly correlated, as expected. Worth exploring relationship to weathersit.\n",
    "- atemp: Highly correlated, though potentially redundant.\n",
    "- hum: Highly correlated. Makes sense; high humidity likely means hot and muggy conditions or rainy conditions, neither of which are optimal for riding a bike.\n",
    "- windspeed: Slight correlation. Though not very high, it's interesting.\n",
    "- casual: Meaningless because it leaks the target variable\n",
    "- registered: Meaningless because it leaks the target variable\n"
   ]
  },
  {
   "cell_type": "markdown",
   "metadata": {},
   "source": [
    "# Feature Engineering"
   ]
  },
  {
   "cell_type": "code",
   "execution_count": 4,
   "metadata": {},
   "outputs": [
    {
     "data": {
      "text/html": [
       "<div>\n",
       "<style scoped>\n",
       "    .dataframe tbody tr th:only-of-type {\n",
       "        vertical-align: middle;\n",
       "    }\n",
       "\n",
       "    .dataframe tbody tr th {\n",
       "        vertical-align: top;\n",
       "    }\n",
       "\n",
       "    .dataframe thead th {\n",
       "        text-align: right;\n",
       "    }\n",
       "</style>\n",
       "<table border=\"1\" class=\"dataframe\">\n",
       "  <thead>\n",
       "    <tr style=\"text-align: right;\">\n",
       "      <th></th>\n",
       "      <th>instant</th>\n",
       "      <th>dteday</th>\n",
       "      <th>season</th>\n",
       "      <th>yr</th>\n",
       "      <th>mnth</th>\n",
       "      <th>hr</th>\n",
       "      <th>holiday</th>\n",
       "      <th>weekday</th>\n",
       "      <th>workingday</th>\n",
       "      <th>weathersit</th>\n",
       "      <th>temp</th>\n",
       "      <th>atemp</th>\n",
       "      <th>hum</th>\n",
       "      <th>windspeed</th>\n",
       "      <th>casual</th>\n",
       "      <th>registered</th>\n",
       "      <th>cnt</th>\n",
       "      <th>time_label</th>\n",
       "    </tr>\n",
       "  </thead>\n",
       "  <tbody>\n",
       "    <tr>\n",
       "      <th>0</th>\n",
       "      <td>1</td>\n",
       "      <td>2011-01-01</td>\n",
       "      <td>1</td>\n",
       "      <td>0</td>\n",
       "      <td>1</td>\n",
       "      <td>0</td>\n",
       "      <td>0</td>\n",
       "      <td>6</td>\n",
       "      <td>0</td>\n",
       "      <td>1</td>\n",
       "      <td>0.24</td>\n",
       "      <td>0.2879</td>\n",
       "      <td>0.81</td>\n",
       "      <td>0.0</td>\n",
       "      <td>3</td>\n",
       "      <td>13</td>\n",
       "      <td>16</td>\n",
       "      <td>4</td>\n",
       "    </tr>\n",
       "    <tr>\n",
       "      <th>1</th>\n",
       "      <td>2</td>\n",
       "      <td>2011-01-01</td>\n",
       "      <td>1</td>\n",
       "      <td>0</td>\n",
       "      <td>1</td>\n",
       "      <td>1</td>\n",
       "      <td>0</td>\n",
       "      <td>6</td>\n",
       "      <td>0</td>\n",
       "      <td>1</td>\n",
       "      <td>0.22</td>\n",
       "      <td>0.2727</td>\n",
       "      <td>0.80</td>\n",
       "      <td>0.0</td>\n",
       "      <td>8</td>\n",
       "      <td>32</td>\n",
       "      <td>40</td>\n",
       "      <td>4</td>\n",
       "    </tr>\n",
       "    <tr>\n",
       "      <th>2</th>\n",
       "      <td>3</td>\n",
       "      <td>2011-01-01</td>\n",
       "      <td>1</td>\n",
       "      <td>0</td>\n",
       "      <td>1</td>\n",
       "      <td>2</td>\n",
       "      <td>0</td>\n",
       "      <td>6</td>\n",
       "      <td>0</td>\n",
       "      <td>1</td>\n",
       "      <td>0.22</td>\n",
       "      <td>0.2727</td>\n",
       "      <td>0.80</td>\n",
       "      <td>0.0</td>\n",
       "      <td>5</td>\n",
       "      <td>27</td>\n",
       "      <td>32</td>\n",
       "      <td>4</td>\n",
       "    </tr>\n",
       "    <tr>\n",
       "      <th>3</th>\n",
       "      <td>4</td>\n",
       "      <td>2011-01-01</td>\n",
       "      <td>1</td>\n",
       "      <td>0</td>\n",
       "      <td>1</td>\n",
       "      <td>3</td>\n",
       "      <td>0</td>\n",
       "      <td>6</td>\n",
       "      <td>0</td>\n",
       "      <td>1</td>\n",
       "      <td>0.24</td>\n",
       "      <td>0.2879</td>\n",
       "      <td>0.75</td>\n",
       "      <td>0.0</td>\n",
       "      <td>3</td>\n",
       "      <td>10</td>\n",
       "      <td>13</td>\n",
       "      <td>4</td>\n",
       "    </tr>\n",
       "    <tr>\n",
       "      <th>4</th>\n",
       "      <td>5</td>\n",
       "      <td>2011-01-01</td>\n",
       "      <td>1</td>\n",
       "      <td>0</td>\n",
       "      <td>1</td>\n",
       "      <td>4</td>\n",
       "      <td>0</td>\n",
       "      <td>6</td>\n",
       "      <td>0</td>\n",
       "      <td>1</td>\n",
       "      <td>0.24</td>\n",
       "      <td>0.2879</td>\n",
       "      <td>0.75</td>\n",
       "      <td>0.0</td>\n",
       "      <td>0</td>\n",
       "      <td>1</td>\n",
       "      <td>1</td>\n",
       "      <td>4</td>\n",
       "    </tr>\n",
       "  </tbody>\n",
       "</table>\n",
       "</div>"
      ],
      "text/plain": [
       "   instant      dteday  season  yr  mnth  hr  holiday  weekday  workingday  \\\n",
       "0        1  2011-01-01       1   0     1   0        0        6           0   \n",
       "1        2  2011-01-01       1   0     1   1        0        6           0   \n",
       "2        3  2011-01-01       1   0     1   2        0        6           0   \n",
       "3        4  2011-01-01       1   0     1   3        0        6           0   \n",
       "4        5  2011-01-01       1   0     1   4        0        6           0   \n",
       "\n",
       "   weathersit  temp   atemp   hum  windspeed  casual  registered  cnt  \\\n",
       "0           1  0.24  0.2879  0.81        0.0       3          13   16   \n",
       "1           1  0.22  0.2727  0.80        0.0       8          32   40   \n",
       "2           1  0.22  0.2727  0.80        0.0       5          27   32   \n",
       "3           1  0.24  0.2879  0.75        0.0       3          10   13   \n",
       "4           1  0.24  0.2879  0.75        0.0       0           1    1   \n",
       "\n",
       "   time_label  \n",
       "0           4  \n",
       "1           4  \n",
       "2           4  \n",
       "3           4  \n",
       "4           4  "
      ]
     },
     "execution_count": 4,
     "metadata": {},
     "output_type": "execute_result"
    }
   ],
   "source": [
    "def assign_label(hour):\n",
    "    '''\n",
    "    Returns a value corresponding to time of day based on the hour passed in.\n",
    "    \n",
    "    1: Morning (6-12)\n",
    "    2: Afternoon (12-18)\n",
    "    3: Evening (18-24)\n",
    "    4: Night (0-6)\n",
    "    '''\n",
    "    \n",
    "    if 6 <= hour < 12:\n",
    "        return 1\n",
    "    elif 12 <= hour < 18:\n",
    "        return 2\n",
    "    elif 18 <= hour < 24:\n",
    "        return 3\n",
    "    elif 0 <= hour < 6:\n",
    "        return 4\n",
    "    \n",
    "bike_rentals['time_label'] = bike_rentals['hr'].apply(assign_label)\n",
    "\n",
    "bike_rentals.head()"
   ]
  },
  {
   "cell_type": "markdown",
   "metadata": {},
   "source": [
    "# Choosing Error Metric\n",
    "\n",
    "Plotting the distribution of 'cnt' reveals a right-skewed distribution, which means we have outliers in the data. We need to think about the importance of those outliers before building our model. \n",
    "\n",
    "Let's think about the data for a moment, and what precisely we want to predict and why we want to predict it. The data represents two years of bike rental data, with each entry recording data for a single hour. The target variable is the number of bikes sold within that hour. Considering what we know about the data, how important are the hours during which an incredibly high number of rentals were recorded? \n",
    "\n",
    "This is a really difficult question to answer. I think it boils down to the model's intended use. Do we want to be able to predict high-volume hours with accuracy, or do we want a model with generally good accuracy overall even if it fails to predict high-volume hours? I'm just brainstorming here, but if we're chiefly concerned with being able to reliably meeting demand, then the outliers aren't as important as overall accuracy is. If, on the other hand, we want to maximize revenue from bike rentals, then outliers seem important, because we ultimately want to aim for pushing our mean number of sales closer to those outliers.\n",
    "\n",
    "Even considering these two use cases, there are a few ways we could handle the outliers. The simplest way would be to ignore their impact and use MAE as our error metric to get a general idea of how well the model performs. Another way to handle the outliers would be to use RMSE as our error metric and run the model with and without the outliers to see just how strongly they affect the predictions.\n",
    "\n",
    "Something else to consider is how well these two metrics accurately describe the model's performance. Though MAE and RMSE give an idea of how well the model is performing using the training data, I don't think they give a very strong indication of whether the model is over or underfitting. \n",
    "\n",
    "For now, I'm going to settle for MAE because I don't think the outliers are very important."
   ]
  },
  {
   "cell_type": "markdown",
   "metadata": {},
   "source": [
    "# Splitting data into train and test sets"
   ]
  },
  {
   "cell_type": "code",
   "execution_count": 5,
   "metadata": {},
   "outputs": [],
   "source": [
    "# Randomly select 80% of the rows from our dataset for the train set\n",
    "train = bike_rentals.sample(frac=.8)\n",
    "\n",
    "# Select all remaining rows from our dataset for our test set\n",
    "test = bike_rentals.loc[~bike_rentals.index.isin(train.index)]"
   ]
  },
  {
   "cell_type": "markdown",
   "metadata": {},
   "source": [
    "# Feature Selection"
   ]
  },
  {
   "cell_type": "code",
   "execution_count": 6,
   "metadata": {},
   "outputs": [
    {
     "data": {
      "text/plain": [
       "Index(['season', 'yr', 'mnth', 'hr', 'holiday', 'weekday', 'workingday',\n",
       "       'weathersit', 'temp', 'atemp', 'hum', 'windspeed', 'time_label'],\n",
       "      dtype='object')"
      ]
     },
     "execution_count": 6,
     "metadata": {},
     "output_type": "execute_result"
    }
   ],
   "source": [
    "# Let's start out by droppping columns that leak data or don't contribute any meaningful information\n",
    "features = bike_rentals.drop(['instant', 'cnt', 'registered', 'casual', 'dteday'], axis=1).columns\n",
    "features"
   ]
  },
  {
   "cell_type": "code",
   "execution_count": 7,
   "metadata": {},
   "outputs": [
    {
     "data": {
      "image/png": "[encoded data removed]",
      "text/plain": [
       "<Figure size 720x720 with 2 Axes>"
      ]
     },
     "metadata": {
      "needs_background": "light"
     },
     "output_type": "display_data"
    }
   ],
   "source": [
    "# Now let's check for correlation between features to drop redundant columns\n",
    "fig, ax = plt.subplots(figsize=(10,10))\n",
    "\n",
    "sns.heatmap(bike_rentals[features].corr().abs(), annot=True, cmap='YlGnBu')\n",
    "plt.show()"
   ]
  },
  {
   "cell_type": "markdown",
   "metadata": {},
   "source": [
    "This looks pretty straightforward! Look at that almost perfect correlation between temp and atemp. We'll need to decide which to keep, though I doubt it matters much. Let's keep the temp column. As I expected after running the initial correlations with our target variable, the month column is highly correlated with season. Which one should we keep? I'm not sure, but here's what I think: \n",
    "\n",
    "- Keeping the month column provides more granularity which may increase noise. \n",
    "- If we keep the season column, on the other hand, we'll lose that granularity and potentially significant information, but we'll potentiall gain accuracy. \n",
    "\n",
    "I'm worried the granularity in the month column may negatively impact our predictions, so I'm going to keep the season column instead. It may be worth running the model with one and then the other just to be sure.\n",
    "\n",
    "Some other variable relationships are bothering me. Look at the relationship between 'hum' and 'weathersit' for example. That's a relatively high correlation, and it makes sense since rain obviously means higher humidity, for example. I'm tempted to drop one of the columns, but I fear doing so would drop meaningful information. The 'hum' column is more strongly correlated with our target variable, but does that necessarily mean it's more significant? The 'weathersit' column also has a significantly high correlation with our target variable, though it is admittedly a weaker correlation. Here's another thought; the information lost by dropping 'weathersit' may be preserved by way of the combination of two other variables, namely 'hum' and 'temp'. With that line of thinking, let's drop 'weathersit'.\n",
    "\n",
    "The relationship between 'season' and 'temp' is potentially problematic. What do we do with these columns? There's obviously a relationship between season and temperature, but there are other things implied by the season that are lost in the temperature column. Some seasons are more popular for D.C. tourism, despite temperature (and admittedly sometimes, though not always, because of temperature). With these considerations, I think it's important to keep both columns.\n",
    "\n",
    "One final thing to consider is whether we need all three of the 'holiday', 'weekday', and 'workingday' columns. Because 'holiday' and 'workingday' have almost the same correlation with our target variable (though of opposite magnitudes), I think it's safe to drop one. Let's drop 'holiday'.\n",
    "\n",
    "That's a lot to digest, so to recap, we're dropping:\n",
    "\n",
    "- atemp\n",
    "- mnth\n",
    "- weathersit\n",
    "- holiday"
   ]
  },
  {
   "cell_type": "code",
   "execution_count": 8,
   "metadata": {},
   "outputs": [
    {
     "data": {
      "text/plain": [
       "Index(['season', 'yr', 'hr', 'weekday', 'workingday', 'temp', 'hum',\n",
       "       'windspeed', 'time_label'],\n",
       "      dtype='object')"
      ]
     },
     "execution_count": 8,
     "metadata": {},
     "output_type": "execute_result"
    }
   ],
   "source": [
    "# Let's drop those features\n",
    "features = features.drop(['atemp', 'mnth', 'weathersit', 'holiday'])\n",
    "\n",
    "features"
   ]
  },
  {
   "cell_type": "code",
   "execution_count": 9,
   "metadata": {},
   "outputs": [
    {
     "data": {
      "text/plain": [
       "Index(['season', 'yr', 'weekday', 'workingday', 'temp', 'hum', 'windspeed',\n",
       "       'time_label'],\n",
       "      dtype='object')"
      ]
     },
     "execution_count": 9,
     "metadata": {},
     "output_type": "execute_result"
    }
   ],
   "source": [
    "# Let's also drop the 'hr' column since we've converted it in another step\n",
    "features = features.drop('hr')\n",
    "features"
   ]
  },
  {
   "cell_type": "code",
   "execution_count": 10,
   "metadata": {},
   "outputs": [
    {
     "data": {
      "image/png": "[encoded data removed]",
      "text/plain": [
       "<Figure size 720x720 with 2 Axes>"
      ]
     },
     "metadata": {
      "needs_background": "light"
     },
     "output_type": "display_data"
    }
   ],
   "source": [
    "# One last correlation check just to be sure we haven't missed anything and to check correlation with target\n",
    "fig, ax = plt.subplots(figsize=(10,10))\n",
    "\n",
    "sns.heatmap(pd.concat([bike_rentals[features], bike_rentals['cnt']], axis=1).corr().abs(), annot=True, cmap='YlGnBu')\n",
    "plt.show()"
   ]
  },
  {
   "cell_type": "markdown",
   "metadata": {},
   "source": [
    "Let's go ahead and just drop 'weekday' and 'workingday'. The correlation is so low that I doubt they'll add anything meaningful to our algorithm."
   ]
  },
  {
   "cell_type": "code",
   "execution_count": 11,
   "metadata": {},
   "outputs": [
    {
     "data": {
      "text/plain": [
       "Index(['season', 'yr', 'temp', 'hum', 'windspeed', 'time_label'], dtype='object')"
      ]
     },
     "execution_count": 11,
     "metadata": {},
     "output_type": "execute_result"
    }
   ],
   "source": [
    "features = features.drop(['weekday', 'workingday'])\n",
    "features"
   ]
  },
  {
   "cell_type": "markdown",
   "metadata": {},
   "source": [
    "We've dropped a lot of predictors which means we may have inadvertently introduced more model bias. We may have to experiment with adding more features iteratively to see how our model is affected."
   ]
  },
  {
   "cell_type": "markdown",
   "metadata": {},
   "source": [
    "# Building the linear regression model"
   ]
  },
  {
   "cell_type": "code",
   "execution_count": 12,
   "metadata": {},
   "outputs": [
    {
     "name": "stdout",
     "output_type": "stream",
     "text": [
      "MAE: 102.7108496999495\n",
      "MSE: 18847.613142305956\n",
      "RMSE: 137.2866094792422\n"
     ]
    }
   ],
   "source": [
    "import numpy as np\n",
    "from sklearn.linear_model import LinearRegression\n",
    "from sklearn.metrics import mean_squared_error\n",
    "from sklearn.metrics import mean_absolute_error\n",
    "\n",
    "model = LinearRegression()\n",
    "model.fit(train[features], train['cnt'])\n",
    "\n",
    "predictions = model.predict(test[features])\n",
    "\n",
    "mae = mean_absolute_error(test['cnt'], predictions)\n",
    "mse = mean_squared_error(test['cnt'], predictions)\n",
    "rmse = np.sqrt(mse)\n",
    "\n",
    "print('MAE: {0}\\nMSE: {1}\\nRMSE: {2}'.format(mae, mse, rmse))"
   ]
  },
  {
   "cell_type": "markdown",
   "metadata": {},
   "source": [
    "I've included MSE and RMSE to demonstrate just how profoundly the outliers affect our model. In any case, the error is still very high. Let's try to reduce the error with decision trees."
   ]
  },
  {
   "cell_type": "markdown",
   "metadata": {},
   "source": [
    "# Modeling with decision tree regressor"
   ]
  },
  {
   "cell_type": "code",
   "execution_count": 13,
   "metadata": {},
   "outputs": [
    {
     "name": "stdout",
     "output_type": "stream",
     "text": [
      "MAE: 105.48158734725192\n",
      "MSE: 26559.246192552295\n",
      "RMSE: 162.97007759877977\n"
     ]
    }
   ],
   "source": [
    "from sklearn.tree import DecisionTreeRegressor\n",
    "\n",
    "model = DecisionTreeRegressor()\n",
    "\n",
    "model.fit(train[features], train['cnt'])\n",
    "\n",
    "predictions = model.predict(test[features])\n",
    "\n",
    "mae = mean_absolute_error(test['cnt'], predictions)\n",
    "mse = mean_squared_error(test['cnt'], predictions)\n",
    "rmse = np.sqrt(mse)\n",
    "\n",
    "print('MAE: {0}\\nMSE: {1}\\nRMSE: {2}'.format(mae, mse, rmse))"
   ]
  },
  {
   "cell_type": "markdown",
   "metadata": {},
   "source": [
    "The result is higher because it's making too many branches in the decision tree. Let's tweak the regressor to fix that."
   ]
  },
  {
   "cell_type": "code",
   "execution_count": 14,
   "metadata": {},
   "outputs": [
    {
     "name": "stdout",
     "output_type": "stream",
     "text": [
      "min_leaf_samples: 2\n",
      "MAE: 97.69993629787933\n",
      "MSE: 22503.62861675558\n",
      "RMSE: 150.01209490156313\n",
      "\n",
      "min_leaf_samples: 4\n",
      "MAE: 88.43269561677933\n",
      "MSE: 17856.76196489956\n",
      "RMSE: 133.62919578033672\n",
      "\n",
      "min_leaf_samples: 6\n",
      "MAE: 86.28229851356289\n",
      "MSE: 17002.139643524122\n",
      "RMSE: 130.39225300424914\n",
      "\n",
      "min_leaf_samples: 8\n",
      "MAE: 85.06405710751244\n",
      "MSE: 16293.439755081568\n",
      "RMSE: 127.6457588605339\n",
      "\n",
      "min_leaf_samples: 10\n",
      "MAE: 84.25717722864813\n",
      "MSE: 15783.71801841863\n",
      "RMSE: 125.63326796043566\n",
      "\n",
      "min_leaf_samples: 12\n",
      "MAE: 84.08639178179577\n",
      "MSE: 15360.074824576172\n",
      "RMSE: 123.93576894737117\n",
      "\n",
      "min_leaf_samples: 14\n",
      "MAE: 83.60540877074745\n",
      "MSE: 15171.990607007421\n",
      "RMSE: 123.17463459254678\n",
      "\n",
      "min_leaf_samples: 16\n",
      "MAE: 83.76219709747781\n",
      "MSE: 15085.111994693016\n",
      "RMSE: 122.82146390062698\n",
      "\n",
      "min_leaf_samples: 18\n",
      "MAE: 82.73614217163677\n",
      "MSE: 14767.274779101901\n",
      "RMSE: 121.52067634399465\n",
      "\n",
      "min_leaf_samples: 20\n",
      "MAE: 82.51779647444557\n",
      "MSE: 14640.38268185104\n",
      "RMSE: 120.99744907166861\n",
      "\n"
     ]
    }
   ],
   "source": [
    "min_samples = np.arange(2,22,2)\n",
    "\n",
    "for m in min_samples:\n",
    "    model = model = DecisionTreeRegressor(min_samples_leaf=m)\n",
    "\n",
    "    model.fit(train[features], train['cnt'])\n",
    "\n",
    "    predictions = model.predict(test[features])\n",
    "\n",
    "    mae = mean_absolute_error(test['cnt'], predictions)\n",
    "    mse = mean_squared_error(test['cnt'], predictions)\n",
    "    rmse = np.sqrt(mse)\n",
    "\n",
    "    print('min_leaf_samples: {0}\\nMAE: {1}\\nMSE: {2}\\nRMSE: {3}\\n'.format(m, mae, mse, rmse))"
   ]
  },
  {
   "cell_type": "markdown",
   "metadata": {},
   "source": [
    "Note how we get diminishing returns as we increase min_leaf_samples. A min_leaf_samples of 10 seems to be the best for this algorithm. The error is still very high, though, so let's try adding the features we dropped back into our algorithm. We'll start with Linear Regression and then move on to Decision Tree Regression."
   ]
  },
  {
   "cell_type": "code",
   "execution_count": 15,
   "metadata": {},
   "outputs": [
    {
     "name": "stdout",
     "output_type": "stream",
     "text": [
      "Features: Index(['season', 'yr', 'temp', 'hum', 'windspeed', 'time_label'], dtype='object')\n",
      "MAE: 102.7108496999495\n",
      "MSE: 18847.613142305956\n",
      "RMSE: 137.2866094792422\n",
      "\n",
      "Features: ['season', 'yr', 'temp', 'hum', 'windspeed', 'time_label', 'hr']\n",
      "MAE: 97.66508644898576\n",
      "MSE: 17126.973933028403\n",
      "RMSE: 130.870065076122\n",
      "\n",
      "Features: ['season', 'yr', 'temp', 'hum', 'windspeed', 'time_label', 'hr', 'atemp']\n",
      "MAE: 97.58054489505791\n",
      "MSE: 17079.03774736887\n",
      "RMSE: 130.6867925513855\n",
      "\n",
      "Features: ['season', 'yr', 'temp', 'hum', 'windspeed', 'time_label', 'hr', 'atemp', 'mnth']\n",
      "MAE: 97.58770360201812\n",
      "MSE: 17078.16329733863\n",
      "RMSE: 130.683446914055\n",
      "\n",
      "Features: ['season', 'yr', 'temp', 'hum', 'windspeed', 'time_label', 'hr', 'atemp', 'mnth', 'weathersit']\n",
      "MAE: 97.46036693401291\n",
      "MSE: 17029.94238595325\n",
      "RMSE: 130.4988213967975\n",
      "\n",
      "Features: ['season', 'yr', 'temp', 'hum', 'windspeed', 'time_label', 'hr', 'atemp', 'mnth', 'weathersit', 'holiday']\n",
      "MAE: 97.7081472034841\n",
      "MSE: 17035.869106231043\n",
      "RMSE: 130.52152736706324\n",
      "\n",
      "Features: ['season', 'yr', 'temp', 'hum', 'windspeed', 'time_label', 'hr', 'atemp', 'mnth', 'weathersit', 'holiday', 'weekday']\n",
      "MAE: 97.61195057756115\n",
      "MSE: 17004.19294003191\n",
      "RMSE: 130.40012630374216\n",
      "\n",
      "Features: ['season', 'yr', 'temp', 'hum', 'windspeed', 'time_label', 'hr', 'atemp', 'mnth', 'weathersit', 'holiday', 'weekday', 'workingday']\n",
      "MAE: 97.81425426078444\n",
      "MSE: 17023.871016607376\n",
      "RMSE: 130.4755571615135\n",
      "\n"
     ]
    }
   ],
   "source": [
    "dropped_features = ['hr', 'atemp', 'mnth', 'weathersit', 'holiday', 'weekday', 'workingday']\n",
    "added_features = []\n",
    "\n",
    "model = LinearRegression()\n",
    "model.fit(train[features], train['cnt'])\n",
    "\n",
    "predictions = model.predict(test[features])\n",
    "\n",
    "mae = mean_absolute_error(test['cnt'], predictions)\n",
    "mse = mean_squared_error(test['cnt'], predictions)\n",
    "rmse = np.sqrt(mse)\n",
    "\n",
    "print('Features: {0}\\nMAE: {1}\\nMSE: {2}\\nRMSE: {3}\\n'.format(features, mae, mse, rmse))\n",
    "\n",
    "for feature in dropped_features:\n",
    "    added_features.append(feature)\n",
    "    new_features = list(features) + added_features\n",
    "    \n",
    "    model = LinearRegression()\n",
    "    model.fit(train[new_features], train['cnt'])\n",
    "\n",
    "    predictions = model.predict(test[new_features])\n",
    "\n",
    "    mae = mean_absolute_error(test['cnt'], predictions)\n",
    "    mse = mean_squared_error(test['cnt'], predictions)\n",
    "    rmse = np.sqrt(mse)\n",
    "\n",
    "    print('Features: {0}\\nMAE: {1}\\nMSE: {2}\\nRMSE: {3}\\n'.format(new_features, mae, mse, rmse))"
   ]
  },
  {
   "cell_type": "markdown",
   "metadata": {},
   "source": [
    "There's only one takeaway from this exercise, as far as I'm concerned: including the 'hr' column substantially reduces our error. Let's see if the dropping the 'time_label' column has any affect."
   ]
  },
  {
   "cell_type": "code",
   "execution_count": 16,
   "metadata": {},
   "outputs": [
    {
     "name": "stdout",
     "output_type": "stream",
     "text": [
      "Features: ['season', 'yr', 'temp', 'hum', 'windspeed', 'hr']\n",
      "MAE: 105.57910446216606\n",
      "MSE: 19902.20488675791\n",
      "RMSE: 141.0751745941075\n",
      "\n"
     ]
    }
   ],
   "source": [
    "new_features = list(features.drop('time_label')) + ['hr']\n",
    "\n",
    "model = LinearRegression()\n",
    "model.fit(train[new_features], train['cnt'])\n",
    "\n",
    "predictions = model.predict(test[new_features])\n",
    "\n",
    "mae = mean_absolute_error(test['cnt'], predictions)\n",
    "mse = mean_squared_error(test['cnt'], predictions)\n",
    "rmse = np.sqrt(mse)\n",
    "\n",
    "print('Features: {0}\\nMAE: {1}\\nMSE: {2}\\nRMSE: {3}\\n'.format(new_features, mae, mse, rmse))"
   ]
  },
  {
   "cell_type": "markdown",
   "metadata": {},
   "source": [
    "It looks like both columns are needed for the reduction in error. This may be a case of overfitting. Let's run our Decision Tree Regressor on our new features."
   ]
  },
  {
   "cell_type": "code",
   "execution_count": 17,
   "metadata": {},
   "outputs": [
    {
     "name": "stdout",
     "output_type": "stream",
     "text": [
      "min_leaf_samples: 2\n",
      "MAE: 67.57198408131953\n",
      "MSE: 11929.519800776756\n",
      "RMSE: 109.22234112477518\n",
      "\n",
      "min_leaf_samples: 4\n",
      "MAE: 63.022763119440334\n",
      "MSE: 10001.525622226418\n",
      "RMSE: 100.00762782021388\n",
      "\n",
      "min_leaf_samples: 6\n",
      "MAE: 61.117918038840074\n",
      "MSE: 9091.186035424851\n",
      "RMSE: 95.34771122279156\n",
      "\n",
      "min_leaf_samples: 8\n",
      "MAE: 59.3028959070424\n",
      "MSE: 8360.797592121913\n",
      "RMSE: 91.437397120226\n",
      "\n",
      "min_leaf_samples: 10\n",
      "MAE: 59.24729426843704\n",
      "MSE: 8272.353295848072\n",
      "RMSE: 90.95247822818283\n",
      "\n",
      "min_leaf_samples: 12\n",
      "MAE: 58.935618184626705\n",
      "MSE: 8091.236631228386\n",
      "RMSE: 89.95130144266055\n",
      "\n",
      "min_leaf_samples: 14\n",
      "MAE: 59.43266874766108\n",
      "MSE: 8202.885522792185\n",
      "RMSE: 90.56978261424825\n",
      "\n",
      "min_leaf_samples: 16\n",
      "MAE: 59.83443668739575\n",
      "MSE: 8121.834394775914\n",
      "RMSE: 90.12122055751306\n",
      "\n",
      "min_leaf_samples: 18\n",
      "MAE: 59.62197310883244\n",
      "MSE: 7938.670764243199\n",
      "RMSE: 89.09921865113745\n",
      "\n",
      "min_leaf_samples: 20\n",
      "MAE: 59.983015553008656\n",
      "MSE: 7963.669198130222\n",
      "RMSE: 89.23939263649333\n",
      "\n"
     ]
    }
   ],
   "source": [
    "features = list(features) + ['hr']\n",
    "\n",
    "for m in min_samples:\n",
    "    \n",
    "    model = model = DecisionTreeRegressor(min_samples_leaf=m)\n",
    "\n",
    "    model.fit(train[features], train['cnt'])\n",
    "\n",
    "    predictions = model.predict(test[features])\n",
    "\n",
    "    mae = mean_absolute_error(test['cnt'], predictions)\n",
    "    mse = mean_squared_error(test['cnt'], predictions)\n",
    "    rmse = np.sqrt(mse)\n",
    "    \n",
    "    print('min_leaf_samples: {0}\\nMAE: {1}\\nMSE: {2}\\nRMSE: {3}\\n'.format(m, mae, mse, rmse))"
   ]
  },
  {
   "cell_type": "markdown",
   "metadata": {},
   "source": [
    "Including the hour column substantially lowers the error metric. I'm highly skeptical of these results, however. Because time_label and hr are essentially describing the same thing, we're likely suffering from overfitting. Let's check this out."
   ]
  },
  {
   "cell_type": "code",
   "execution_count": 18,
   "metadata": {},
   "outputs": [
    {
     "name": "stdout",
     "output_type": "stream",
     "text": [
      "In-sample error:\n",
      "MAE: 49.56334647300058\n",
      "MSE: 5842.577750751613\n",
      "RMSE: 76.43675654259286\n",
      "\n",
      "Out-of-sample error:\n",
      "MAE: 59.24286936844251\n",
      "MSE: 8272.203320246017\n",
      "RMSE: 90.95165375212271\n",
      "\n"
     ]
    }
   ],
   "source": [
    "model = DecisionTreeRegressor(min_samples_leaf=10)\n",
    "\n",
    "model.fit(train[features], train['cnt'])\n",
    "\n",
    "train_predictions = model.predict(train[features])\n",
    "test_predictions = model.predict(test[features])\n",
    "\n",
    "train_mae = mean_absolute_error(train['cnt'], train_predictions)\n",
    "train_mse = mean_squared_error(train['cnt'], train_predictions)\n",
    "train_rmse = np.sqrt(train_mse)\n",
    "\n",
    "print('In-sample error:\\nMAE: {0}\\nMSE: {1}\\nRMSE: {2}\\n'.format(train_mae, train_mse, train_rmse))\n",
    "\n",
    "test_mae = mean_absolute_error(test['cnt'], test_predictions)\n",
    "test_mse = mean_squared_error(test['cnt'], test_predictions)\n",
    "test_rmse = np.sqrt(test_mse)\n",
    "\n",
    "print('Out-of-sample error:\\nMAE: {0}\\nMSE: {1}\\nRMSE: {2}\\n'.format(test_mae, test_mse, test_rmse))"
   ]
  },
  {
   "cell_type": "markdown",
   "metadata": {},
   "source": [
    "Because the out-of-sample error is so much larger than the in-sample-error, it appears we're definitely overfitting. Let's drop the 'hr' column and retest."
   ]
  },
  {
   "cell_type": "code",
   "execution_count": 19,
   "metadata": {},
   "outputs": [
    {
     "name": "stdout",
     "output_type": "stream",
     "text": [
      "In-sample error:\n",
      "MAE: 72.06976153370304\n",
      "MSE: 11286.778190798634\n",
      "RMSE: 106.2392497657934\n",
      "\n",
      "Out-of-sample error:\n",
      "MAE: 84.25717722864813\n",
      "MSE: 15783.71801841863\n",
      "RMSE: 125.63326796043566\n",
      "\n"
     ]
    }
   ],
   "source": [
    "features.remove('hr')\n",
    "\n",
    "model = DecisionTreeRegressor(min_samples_leaf=10)\n",
    "\n",
    "model.fit(train[features], train['cnt'])\n",
    "\n",
    "train_predictions = model.predict(train[features])\n",
    "test_predictions = model.predict(test[features])\n",
    "\n",
    "train_mae = mean_absolute_error(train['cnt'], train_predictions)\n",
    "train_mse = mean_squared_error(train['cnt'], train_predictions)\n",
    "train_rmse = np.sqrt(train_mse)\n",
    "\n",
    "print('In-sample error:\\nMAE: {0}\\nMSE: {1}\\nRMSE: {2}\\n'.format(train_mae, train_mse, train_rmse))\n",
    "\n",
    "test_mae = mean_absolute_error(test['cnt'], test_predictions)\n",
    "test_mse = mean_squared_error(test['cnt'], test_predictions)\n",
    "test_rmse = np.sqrt(test_mse)\n",
    "\n",
    "print('Out-of-sample error:\\nMAE: {0}\\nMSE: {1}\\nRMSE: {2}\\n'.format(test_mae, test_mse, test_rmse))"
   ]
  },
  {
   "cell_type": "markdown",
   "metadata": {},
   "source": [
    "Well that's an even larger difference. I think we can still do better. Let's try transforming our features and see what happens."
   ]
  },
  {
   "cell_type": "markdown",
   "metadata": {},
   "source": [
    "# Feature Transformation"
   ]
  },
  {
   "cell_type": "code",
   "execution_count": 20,
   "metadata": {},
   "outputs": [
    {
     "data": {
      "text/html": [
       "<div>\n",
       "<style scoped>\n",
       "    .dataframe tbody tr th:only-of-type {\n",
       "        vertical-align: middle;\n",
       "    }\n",
       "\n",
       "    .dataframe tbody tr th {\n",
       "        vertical-align: top;\n",
       "    }\n",
       "\n",
       "    .dataframe thead th {\n",
       "        text-align: right;\n",
       "    }\n",
       "</style>\n",
       "<table border=\"1\" class=\"dataframe\">\n",
       "  <thead>\n",
       "    <tr style=\"text-align: right;\">\n",
       "      <th></th>\n",
       "      <th>season</th>\n",
       "      <th>yr</th>\n",
       "      <th>temp</th>\n",
       "      <th>hum</th>\n",
       "      <th>windspeed</th>\n",
       "      <th>time_label</th>\n",
       "    </tr>\n",
       "  </thead>\n",
       "  <tbody>\n",
       "    <tr>\n",
       "      <th>0</th>\n",
       "      <td>1</td>\n",
       "      <td>0</td>\n",
       "      <td>0.24</td>\n",
       "      <td>0.81</td>\n",
       "      <td>0.0</td>\n",
       "      <td>4</td>\n",
       "    </tr>\n",
       "    <tr>\n",
       "      <th>1</th>\n",
       "      <td>1</td>\n",
       "      <td>0</td>\n",
       "      <td>0.22</td>\n",
       "      <td>0.80</td>\n",
       "      <td>0.0</td>\n",
       "      <td>4</td>\n",
       "    </tr>\n",
       "    <tr>\n",
       "      <th>2</th>\n",
       "      <td>1</td>\n",
       "      <td>0</td>\n",
       "      <td>0.22</td>\n",
       "      <td>0.80</td>\n",
       "      <td>0.0</td>\n",
       "      <td>4</td>\n",
       "    </tr>\n",
       "    <tr>\n",
       "      <th>3</th>\n",
       "      <td>1</td>\n",
       "      <td>0</td>\n",
       "      <td>0.24</td>\n",
       "      <td>0.75</td>\n",
       "      <td>0.0</td>\n",
       "      <td>4</td>\n",
       "    </tr>\n",
       "    <tr>\n",
       "      <th>4</th>\n",
       "      <td>1</td>\n",
       "      <td>0</td>\n",
       "      <td>0.24</td>\n",
       "      <td>0.75</td>\n",
       "      <td>0.0</td>\n",
       "      <td>4</td>\n",
       "    </tr>\n",
       "  </tbody>\n",
       "</table>\n",
       "</div>"
      ],
      "text/plain": [
       "   season  yr  temp   hum  windspeed  time_label\n",
       "0       1   0  0.24  0.81        0.0           4\n",
       "1       1   0  0.22  0.80        0.0           4\n",
       "2       1   0  0.22  0.80        0.0           4\n",
       "3       1   0  0.24  0.75        0.0           4\n",
       "4       1   0  0.24  0.75        0.0           4"
      ]
     },
     "execution_count": 20,
     "metadata": {},
     "output_type": "execute_result"
    }
   ],
   "source": [
    "bike_rentals[features].head()"
   ]
  },
  {
   "cell_type": "code",
   "execution_count": 21,
   "metadata": {},
   "outputs": [
    {
     "data": {
      "text/plain": [
       "array([1, 2, 3, 4], dtype=int64)"
      ]
     },
     "execution_count": 21,
     "metadata": {},
     "output_type": "execute_result"
    }
   ],
   "source": [
    "bike_rentals['season'].unique()"
   ]
  },
  {
   "cell_type": "code",
   "execution_count": 22,
   "metadata": {},
   "outputs": [
    {
     "data": {
      "text/plain": [
       "array([4, 1, 2, 3], dtype=int64)"
      ]
     },
     "execution_count": 22,
     "metadata": {},
     "output_type": "execute_result"
    }
   ],
   "source": [
    "bike_rentals['time_label'].unique()"
   ]
  },
  {
   "cell_type": "code",
   "execution_count": 23,
   "metadata": {},
   "outputs": [
    {
     "data": {
      "text/plain": [
       "array([0, 1], dtype=int64)"
      ]
     },
     "execution_count": 23,
     "metadata": {},
     "output_type": "execute_result"
    }
   ],
   "source": [
    "bike_rentals['yr'].unique()"
   ]
  },
  {
   "cell_type": "markdown",
   "metadata": {},
   "source": [
    "Three of our features are categorical and would likely benefit from transformation."
   ]
  },
  {
   "cell_type": "code",
   "execution_count": 24,
   "metadata": {},
   "outputs": [
    {
     "data": {
      "text/html": [
       "<div>\n",
       "<style scoped>\n",
       "    .dataframe tbody tr th:only-of-type {\n",
       "        vertical-align: middle;\n",
       "    }\n",
       "\n",
       "    .dataframe tbody tr th {\n",
       "        vertical-align: top;\n",
       "    }\n",
       "\n",
       "    .dataframe thead th {\n",
       "        text-align: right;\n",
       "    }\n",
       "</style>\n",
       "<table border=\"1\" class=\"dataframe\">\n",
       "  <thead>\n",
       "    <tr style=\"text-align: right;\">\n",
       "      <th></th>\n",
       "      <th>instant</th>\n",
       "      <th>dteday</th>\n",
       "      <th>mnth</th>\n",
       "      <th>hr</th>\n",
       "      <th>holiday</th>\n",
       "      <th>weekday</th>\n",
       "      <th>workingday</th>\n",
       "      <th>weathersit</th>\n",
       "      <th>temp</th>\n",
       "      <th>atemp</th>\n",
       "      <th>...</th>\n",
       "      <th>season_1</th>\n",
       "      <th>season_2</th>\n",
       "      <th>season_3</th>\n",
       "      <th>season_4</th>\n",
       "      <th>yr_0</th>\n",
       "      <th>yr_1</th>\n",
       "      <th>time_label_1</th>\n",
       "      <th>time_label_2</th>\n",
       "      <th>time_label_3</th>\n",
       "      <th>time_label_4</th>\n",
       "    </tr>\n",
       "  </thead>\n",
       "  <tbody>\n",
       "    <tr>\n",
       "      <th>0</th>\n",
       "      <td>1</td>\n",
       "      <td>2011-01-01</td>\n",
       "      <td>1</td>\n",
       "      <td>0</td>\n",
       "      <td>0</td>\n",
       "      <td>6</td>\n",
       "      <td>0</td>\n",
       "      <td>1</td>\n",
       "      <td>0.24</td>\n",
       "      <td>0.2879</td>\n",
       "      <td>...</td>\n",
       "      <td>1</td>\n",
       "      <td>0</td>\n",
       "      <td>0</td>\n",
       "      <td>0</td>\n",
       "      <td>1</td>\n",
       "      <td>0</td>\n",
       "      <td>0</td>\n",
       "      <td>0</td>\n",
       "      <td>0</td>\n",
       "      <td>1</td>\n",
       "    </tr>\n",
       "    <tr>\n",
       "      <th>1</th>\n",
       "      <td>2</td>\n",
       "      <td>2011-01-01</td>\n",
       "      <td>1</td>\n",
       "      <td>1</td>\n",
       "      <td>0</td>\n",
       "      <td>6</td>\n",
       "      <td>0</td>\n",
       "      <td>1</td>\n",
       "      <td>0.22</td>\n",
       "      <td>0.2727</td>\n",
       "      <td>...</td>\n",
       "      <td>1</td>\n",
       "      <td>0</td>\n",
       "      <td>0</td>\n",
       "      <td>0</td>\n",
       "      <td>1</td>\n",
       "      <td>0</td>\n",
       "      <td>0</td>\n",
       "      <td>0</td>\n",
       "      <td>0</td>\n",
       "      <td>1</td>\n",
       "    </tr>\n",
       "    <tr>\n",
       "      <th>2</th>\n",
       "      <td>3</td>\n",
       "      <td>2011-01-01</td>\n",
       "      <td>1</td>\n",
       "      <td>2</td>\n",
       "      <td>0</td>\n",
       "      <td>6</td>\n",
       "      <td>0</td>\n",
       "      <td>1</td>\n",
       "      <td>0.22</td>\n",
       "      <td>0.2727</td>\n",
       "      <td>...</td>\n",
       "      <td>1</td>\n",
       "      <td>0</td>\n",
       "      <td>0</td>\n",
       "      <td>0</td>\n",
       "      <td>1</td>\n",
       "      <td>0</td>\n",
       "      <td>0</td>\n",
       "      <td>0</td>\n",
       "      <td>0</td>\n",
       "      <td>1</td>\n",
       "    </tr>\n",
       "    <tr>\n",
       "      <th>3</th>\n",
       "      <td>4</td>\n",
       "      <td>2011-01-01</td>\n",
       "      <td>1</td>\n",
       "      <td>3</td>\n",
       "      <td>0</td>\n",
       "      <td>6</td>\n",
       "      <td>0</td>\n",
       "      <td>1</td>\n",
       "      <td>0.24</td>\n",
       "      <td>0.2879</td>\n",
       "      <td>...</td>\n",
       "      <td>1</td>\n",
       "      <td>0</td>\n",
       "      <td>0</td>\n",
       "      <td>0</td>\n",
       "      <td>1</td>\n",
       "      <td>0</td>\n",
       "      <td>0</td>\n",
       "      <td>0</td>\n",
       "      <td>0</td>\n",
       "      <td>1</td>\n",
       "    </tr>\n",
       "    <tr>\n",
       "      <th>4</th>\n",
       "      <td>5</td>\n",
       "      <td>2011-01-01</td>\n",
       "      <td>1</td>\n",
       "      <td>4</td>\n",
       "      <td>0</td>\n",
       "      <td>6</td>\n",
       "      <td>0</td>\n",
       "      <td>1</td>\n",
       "      <td>0.24</td>\n",
       "      <td>0.2879</td>\n",
       "      <td>...</td>\n",
       "      <td>1</td>\n",
       "      <td>0</td>\n",
       "      <td>0</td>\n",
       "      <td>0</td>\n",
       "      <td>1</td>\n",
       "      <td>0</td>\n",
       "      <td>0</td>\n",
       "      <td>0</td>\n",
       "      <td>0</td>\n",
       "      <td>1</td>\n",
       "    </tr>\n",
       "  </tbody>\n",
       "</table>\n",
       "<p>5 rows × 25 columns</p>\n",
       "</div>"
      ],
      "text/plain": [
       "   instant      dteday  mnth  hr  holiday  weekday  workingday  weathersit  \\\n",
       "0        1  2011-01-01     1   0        0        6           0           1   \n",
       "1        2  2011-01-01     1   1        0        6           0           1   \n",
       "2        3  2011-01-01     1   2        0        6           0           1   \n",
       "3        4  2011-01-01     1   3        0        6           0           1   \n",
       "4        5  2011-01-01     1   4        0        6           0           1   \n",
       "\n",
       "   temp   atemp      ...       season_1  season_2  season_3  season_4  yr_0  \\\n",
       "0  0.24  0.2879      ...              1         0         0         0     1   \n",
       "1  0.22  0.2727      ...              1         0         0         0     1   \n",
       "2  0.22  0.2727      ...              1         0         0         0     1   \n",
       "3  0.24  0.2879      ...              1         0         0         0     1   \n",
       "4  0.24  0.2879      ...              1         0         0         0     1   \n",
       "\n",
       "   yr_1  time_label_1  time_label_2  time_label_3  time_label_4  \n",
       "0     0             0             0             0             1  \n",
       "1     0             0             0             0             1  \n",
       "2     0             0             0             0             1  \n",
       "3     0             0             0             0             1  \n",
       "4     0             0             0             0             1  \n",
       "\n",
       "[5 rows x 25 columns]"
      ]
     },
     "execution_count": 24,
     "metadata": {},
     "output_type": "execute_result"
    }
   ],
   "source": [
    "cat_cols = ['season', 'yr', 'time_label']\n",
    "\n",
    "bike_rentals[cat_cols] = bike_rentals[cat_cols].astype('category')\n",
    "\n",
    "transformed_rentals = pd.concat([bike_rentals, pd.get_dummies(bike_rentals[cat_cols])], axis=1)\n",
    "    \n",
    "transformed_rentals.drop(columns=cat_cols, inplace=True)\n",
    "transformed_rentals.head()"
   ]
  },
  {
   "cell_type": "markdown",
   "metadata": {},
   "source": [
    "# Modeling with transformed data"
   ]
  },
  {
   "cell_type": "markdown",
   "metadata": {},
   "source": [
    "### Feature Selection"
   ]
  },
  {
   "cell_type": "code",
   "execution_count": 25,
   "metadata": {},
   "outputs": [
    {
     "data": {
      "text/plain": [
       "Index(['mnth', 'hr', 'holiday', 'weekday', 'workingday', 'weathersit', 'temp',\n",
       "       'atemp', 'hum', 'windspeed', 'season_1', 'season_2', 'season_3',\n",
       "       'season_4', 'yr_0', 'yr_1', 'time_label_1', 'time_label_2',\n",
       "       'time_label_3', 'time_label_4'],\n",
       "      dtype='object')"
      ]
     },
     "execution_count": 25,
     "metadata": {},
     "output_type": "execute_result"
    }
   ],
   "source": [
    "# Let's reselect our features.\n",
    "features = transformed_rentals.drop(['instant', 'cnt', 'registered', 'casual', 'dteday'], axis=1).columns\n",
    "features"
   ]
  },
  {
   "cell_type": "code",
   "execution_count": 26,
   "metadata": {},
   "outputs": [
    {
     "data": {
      "text/plain": [
       "Index(['temp', 'hum', 'windspeed', 'season_1', 'season_2', 'season_3',\n",
       "       'season_4', 'yr_0', 'yr_1', 'time_label_1', 'time_label_2',\n",
       "       'time_label_3', 'time_label_4'],\n",
       "      dtype='object')"
      ]
     },
     "execution_count": 26,
     "metadata": {},
     "output_type": "execute_result"
    }
   ],
   "source": [
    "# Let's again get rid of our redundant columns\n",
    "features = features.drop(['atemp', 'mnth', 'weathersit', 'holiday', 'weekday', 'workingday', 'hr'])\n",
    "features"
   ]
  },
  {
   "cell_type": "markdown",
   "metadata": {},
   "source": [
    "### Splitting Data into Train and Test Sets"
   ]
  },
  {
   "cell_type": "code",
   "execution_count": 27,
   "metadata": {},
   "outputs": [],
   "source": [
    "# Now we'll split our data again into a train and test set\n",
    "# Randomly select 80% of the rows from our dataset for the train set\n",
    "train = transformed_rentals.sample(frac=.8)\n",
    "\n",
    "# Select all remaining rows from our dataset for our test set\n",
    "test = transformed_rentals.loc[~bike_rentals.index.isin(train.index)]"
   ]
  },
  {
   "cell_type": "markdown",
   "metadata": {},
   "source": [
    "### Modeling with Linear Regression"
   ]
  },
  {
   "cell_type": "code",
   "execution_count": 28,
   "metadata": {},
   "outputs": [
    {
     "name": "stdout",
     "output_type": "stream",
     "text": [
      "In-sample error: \n",
      "MAE: 96.4876150830756\n",
      "MSE: 16664.87941423389\n",
      "RMSE: 129.0925226890926\n",
      "\n",
      "Out-of-sample error: \n",
      "MAE: 97.30422899884925\n",
      "MSE: 17003.40929318901\n",
      "RMSE: 130.39712149119325\n"
     ]
    }
   ],
   "source": [
    "# We'll start with our linear regression model, and we'll check in-sample vs out-of-sample error\n",
    "model = LinearRegression()\n",
    "model.fit(train[features], train['cnt'])\n",
    "\n",
    "train_predictions = model.predict(train[features])\n",
    "test_predictions = model.predict(test[features])\n",
    "\n",
    "train_mae = mean_absolute_error(train['cnt'], train_predictions)\n",
    "train_mse = mean_squared_error(train['cnt'], train_predictions)\n",
    "train_rmse = np.sqrt(train_mse)\n",
    "\n",
    "print('In-sample error: \\nMAE: {0}\\nMSE: {1}\\nRMSE: {2}\\n'.format(train_mae, train_mse, train_rmse))\n",
    "\n",
    "test_mae = mean_absolute_error(test['cnt'], test_predictions)\n",
    "test_mse = mean_squared_error(test['cnt'], test_predictions)\n",
    "test_rmse = np.sqrt(test_mse)\n",
    "\n",
    "print('Out-of-sample error: \\nMAE: {0}\\nMSE: {1}\\nRMSE: {2}'.format(test_mae, test_mse, test_rmse))"
   ]
  },
  {
   "cell_type": "markdown",
   "metadata": {},
   "source": [
    "This is a substantial improvement over our original linear regression model without the data transformations. We didn't test in-sample vs out-of-sample error on the linear regression model before, but based on the comparison with the decision tree regressor we can assume the difference was large for the linear regression model. Here's what our out-of-sample error looked like before with our linear regression model:\n",
    "\n",
    "MAE: 105.91654934919845\n",
    "\n",
    "MSE: 20194.347275437132\n",
    "\n",
    "RMSE: 142.10681642847797\n",
    "\n",
    "Clearly the model has improved substantially. One important thing to note is that our out-of-sample error is actually lower than our in-sample error. This may mean the model is slightly underfitting."
   ]
  },
  {
   "cell_type": "markdown",
   "metadata": {},
   "source": [
    "### Modeling with Decision Tree Regression"
   ]
  },
  {
   "cell_type": "code",
   "execution_count": 29,
   "metadata": {
    "scrolled": false
   },
   "outputs": [
    {
     "name": "stdout",
     "output_type": "stream",
     "text": [
      "\t\tmin_leaf_samples: 2\n",
      "In-sample-error: \t\tOut-of-sample error:\n",
      "MAE: 44.8127259276\t\tMAE: 96.2264329552\n",
      "MSE: 5073.1789491305\t\tMSE: 21449.0001645622\n",
      "RMSE: 71.2262518256\t\tRMSE: 146.4547717371\n",
      "\n",
      "\n",
      "\t\tmin_leaf_samples: 4\n",
      "In-sample-error: \t\tOut-of-sample error:\n",
      "MAE: 59.9917796454\t\tMAE: 91.8657595186\n",
      "MSE: 8379.7518661482\t\tMSE: 18902.1825884944\n",
      "RMSE: 91.5409846252\t\tRMSE: 137.4852086171\n",
      "\n",
      "\n",
      "\t\tmin_leaf_samples: 6\n",
      "In-sample-error: \t\tOut-of-sample error:\n",
      "MAE: 65.7977871633\t\tMAE: 87.6518358695\n",
      "MSE: 9768.849395446\t\tMSE: 17214.2776090907\n",
      "RMSE: 98.8374898277\t\tRMSE: 131.203192069\n",
      "\n",
      "\n",
      "\t\tmin_leaf_samples: 8\n",
      "In-sample-error: \t\tOut-of-sample error:\n",
      "MAE: 69.2878131797\t\tMAE: 86.4583623355\n",
      "MSE: 10606.1603068713\t\tMSE: 16428.2394185769\n",
      "RMSE: 102.9862141593\t\tRMSE: 128.1726937322\n",
      "\n",
      "\n",
      "\t\tmin_leaf_samples: 10\n",
      "In-sample-error: \t\tOut-of-sample error:\n",
      "MAE: 71.4636600914\t\tMAE: 85.6463791917\n",
      "MSE: 11157.1127880452\t\tMSE: 15900.002517793\n",
      "RMSE: 105.6272350677\t\tRMSE: 126.0952121129\n",
      "\n",
      "\n",
      "\t\tmin_leaf_samples: 12\n",
      "In-sample-error: \t\tOut-of-sample error:\n",
      "MAE: 72.9418840539\t\tMAE: 85.7698554369\n",
      "MSE: 11588.6079335902\t\tMSE: 15848.3873095416\n",
      "RMSE: 107.6503968111\t\tRMSE: 125.8903781452\n",
      "\n",
      "\n",
      "\t\tmin_leaf_samples: 14\n",
      "In-sample-error: \t\tOut-of-sample error:\n",
      "MAE: 73.9994070607\t\tMAE: 85.4616222488\n",
      "MSE: 11868.1117102306\t\tMSE: 15713.6012705568\n",
      "RMSE: 108.9408633628\t\tRMSE: 125.3539040898\n",
      "\n",
      "\n",
      "\t\tmin_leaf_samples: 16\n",
      "In-sample-error: \t\tOut-of-sample error:\n",
      "MAE: 74.9794731344\t\tMAE: 85.3591272718\n",
      "MSE: 12086.6983779781\t\tMSE: 15559.1179890042\n",
      "RMSE: 109.939521456\t\tRMSE: 124.7361935807\n",
      "\n",
      "\n",
      "\t\tmin_leaf_samples: 18\n",
      "In-sample-error: \t\tOut-of-sample error:\n",
      "MAE: 75.8190054358\t\tMAE: 85.1841898127\n",
      "MSE: 12300.3040974544\t\tMSE: 15455.9074023827\n",
      "RMSE: 110.9067360328\t\tRMSE: 124.3217897329\n",
      "\n",
      "\n",
      "\t\tmin_leaf_samples: 20\n",
      "In-sample-error: \t\tOut-of-sample error:\n",
      "MAE: 76.431571653\t\tMAE: 85.3718176656\n",
      "MSE: 12467.7353297973\t\tMSE: 15555.8605693378\n",
      "RMSE: 111.6590136523\t\tRMSE: 124.7231356619\n",
      "\n",
      "\n"
     ]
    }
   ],
   "source": [
    "for m in min_samples:\n",
    "    \n",
    "    model = DecisionTreeRegressor(min_samples_leaf=m)\n",
    "\n",
    "    model.fit(train[features], train['cnt'])\n",
    "\n",
    "    train_predictions = model.predict(train[features])\n",
    "    test_predictions = model.predict(test[features])\n",
    "    \n",
    "    train_mae = round(mean_absolute_error(train['cnt'], train_predictions), 10)\n",
    "    train_mse = round(mean_squared_error(train['cnt'], train_predictions), 10)\n",
    "    train_rmse = round(np.sqrt(train_mse), 10)\n",
    "    test_mae = round(mean_absolute_error(test['cnt'], test_predictions), 10)\n",
    "    test_mse = round(mean_squared_error(test['cnt'], test_predictions), 10)\n",
    "    test_rmse = round(np.sqrt(test_mse), 10)\n",
    "    \n",
    "    print('\\t\\tmin_leaf_samples: %s' % m)\n",
    "    print(\n",
    "        '''In-sample-error: \\t\\tOut-of-sample error:\n",
    "MAE: {0}\\t\\tMAE: {1}\n",
    "MSE: {2}\\t\\tMSE: {3}\n",
    "RMSE: {4}\\t\\tRMSE: {5}\\n\\n'''.format(train_mae, test_mae, train_mse, test_mse, train_rmse, test_rmse))\n",
    "    \n",
    "    \n",
    "    "
   ]
  },
  {
   "cell_type": "markdown",
   "metadata": {},
   "source": [
    "This is pretty cool. We again see the diminishing returns of increasing min_leaf_samples, but we also see the difference between our in-sample and out-of-sample error metrics decrease (also with diminishing returns). The fit is generally good with a min_leaf_samples value of 10, though we still suffer from a fairly large error. I'd bet the model would benefit from normalization. We'll save that for another time."
   ]
  },
  {
   "cell_type": "markdown",
   "metadata": {},
   "source": [
    "# Modeling with Random Forest Regression"
   ]
  },
  {
   "cell_type": "code",
   "execution_count": 30,
   "metadata": {},
   "outputs": [
    {
     "name": "stdout",
     "output_type": "stream",
     "text": [
      "\t\tmin_leaf_samples: 20\n",
      "In-sample-error: \t\tOut-of-sample error:\n",
      "MAE: 38.4358480747\t\tMAE: 88.4466015313\n",
      "MSE: 3796.7150010347\t\tMSE: 17211.769181386\n",
      "RMSE: 61.6174894087\t\tRMSE: 131.1936323965\n",
      "\n",
      "\n"
     ]
    }
   ],
   "source": [
    "from sklearn.ensemble import RandomForestRegressor\n",
    "\n",
    "model = RandomForestRegressor(n_estimators = 10)\n",
    "\n",
    "model.fit(train[features], train['cnt'])\n",
    "\n",
    "train_predictions = model.predict(train[features])\n",
    "test_predictions = model.predict(test[features])\n",
    "\n",
    "train_mae = round(mean_absolute_error(train['cnt'], train_predictions), 10)\n",
    "train_mse = round(mean_squared_error(train['cnt'], train_predictions), 10)\n",
    "train_rmse = round(np.sqrt(train_mse), 10)\n",
    "test_mae = round(mean_absolute_error(test['cnt'], test_predictions), 10)\n",
    "test_mse = round(mean_squared_error(test['cnt'], test_predictions), 10)\n",
    "test_rmse = round(np.sqrt(test_mse), 10)\n",
    "\n",
    "print('\\t\\tmin_leaf_samples: %s' % m)\n",
    "print(\n",
    "    '''In-sample-error: \\t\\tOut-of-sample error:\n",
    "MAE: {0}\\t\\tMAE: {1}\n",
    "MSE: {2}\\t\\tMSE: {3}\n",
    "RMSE: {4}\\t\\tRMSE: {5}\\n\\n'''.format(train_mae, test_mae, train_mse, test_mse, train_rmse, test_rmse))\n"
   ]
  },
  {
   "cell_type": "code",
   "execution_count": 31,
   "metadata": {},
   "outputs": [
    {
     "name": "stdout",
     "output_type": "stream",
     "text": [
      "\t\tmin_leaf_samples: 2\n",
      "In-sample-error: \t\tOut-of-sample error:\n",
      "MAE: 51.9810188152\t\tMAE: 86.0960831332\n",
      "MSE: 6262.7987761846\t\tMSE: 16051.2984806662\n",
      "RMSE: 79.1378466739\t\tRMSE: 126.693719184\n",
      "\n",
      "\n",
      "\t\tmin_leaf_samples: 4\n",
      "In-sample-error: \t\tOut-of-sample error:\n",
      "MAE: 62.9522775205\t\tMAE: 84.4142277989\n",
      "MSE: 8758.5683854093\t\tMSE: 15218.5337574832\n",
      "RMSE: 93.587223409\t\tRMSE: 123.3634214728\n",
      "\n",
      "\n",
      "\t\tmin_leaf_samples: 6\n",
      "In-sample-error: \t\tOut-of-sample error:\n",
      "MAE: 67.7696601283\t\tMAE: 83.6055020759\n",
      "MSE: 9945.2632228171\t\tMSE: 14785.3393009835\n",
      "RMSE: 99.7259405712\t\tRMSE: 121.5949805748\n",
      "\n",
      "\n",
      "\t\tmin_leaf_samples: 8\n",
      "In-sample-error: \t\tOut-of-sample error:\n",
      "MAE: 70.7510316991\t\tMAE: 83.1517924792\n",
      "MSE: 10709.6265268329\t\tMSE: 14665.3323708774\n",
      "RMSE: 103.4873254405\t\tRMSE: 121.1005052462\n",
      "\n",
      "\n",
      "\t\tmin_leaf_samples: 10\n",
      "In-sample-error: \t\tOut-of-sample error:\n",
      "MAE: 72.7629194686\t\tMAE: 82.7496200663\n",
      "MSE: 11253.8688277986\t\tMSE: 14454.6850740725\n",
      "RMSE: 106.0842534394\t\tRMSE: 120.2276385615\n",
      "\n",
      "\n",
      "\t\tmin_leaf_samples: 12\n",
      "In-sample-error: \t\tOut-of-sample error:\n",
      "MAE: 74.0441088701\t\tMAE: 83.5842926054\n",
      "MSE: 11575.0793731752\t\tMSE: 14526.416163573\n",
      "RMSE: 107.5875428345\t\tRMSE: 120.5255830252\n",
      "\n",
      "\n",
      "\t\tmin_leaf_samples: 14\n",
      "In-sample-error: \t\tOut-of-sample error:\n",
      "MAE: 75.1735087932\t\tMAE: 83.1019402468\n",
      "MSE: 11859.0712223165\t\tMSE: 14485.9738280348\n",
      "RMSE: 108.8993628187\t\tRMSE: 120.3576911877\n",
      "\n",
      "\n",
      "\t\tmin_leaf_samples: 16\n",
      "In-sample-error: \t\tOut-of-sample error:\n",
      "MAE: 76.0364733575\t\tMAE: 83.6596167486\n",
      "MSE: 12131.2797729844\t\tMSE: 14608.93749497\n",
      "RMSE: 110.1420890168\t\tRMSE: 120.8674376951\n",
      "\n",
      "\n",
      "\t\tmin_leaf_samples: 18\n",
      "In-sample-error: \t\tOut-of-sample error:\n",
      "MAE: 76.6935332544\t\tMAE: 83.4708804325\n",
      "MSE: 12294.7370946501\t\tMSE: 14482.8835027706\n",
      "RMSE: 110.8816355158\t\tRMSE: 120.3448524149\n",
      "\n",
      "\n",
      "\t\tmin_leaf_samples: 20\n",
      "In-sample-error: \t\tOut-of-sample error:\n",
      "MAE: 77.3839414558\t\tMAE: 83.408661571\n",
      "MSE: 12444.4761766745\t\tMSE: 14449.9545413124\n",
      "RMSE: 111.5548124317\t\tRMSE: 120.2079637184\n",
      "\n",
      "\n"
     ]
    }
   ],
   "source": [
    "for m in min_samples:\n",
    "    \n",
    "    model = RandomForestRegressor(n_estimators = 10, min_samples_leaf=m)\n",
    "\n",
    "    model.fit(train[features], train['cnt'])\n",
    "\n",
    "    train_predictions = model.predict(train[features])\n",
    "    test_predictions = model.predict(test[features])\n",
    "    \n",
    "    train_mae = round(mean_absolute_error(train['cnt'], train_predictions), 10)\n",
    "    train_mse = round(mean_squared_error(train['cnt'], train_predictions), 10)\n",
    "    train_rmse = round(np.sqrt(train_mse), 10)\n",
    "    test_mae = round(mean_absolute_error(test['cnt'], test_predictions), 10)\n",
    "    test_mse = round(mean_squared_error(test['cnt'], test_predictions), 10)\n",
    "    test_rmse = round(np.sqrt(test_mse), 10)\n",
    "    \n",
    "    print('\\t\\tmin_leaf_samples: %s' % m)\n",
    "    print(\n",
    "        '''In-sample-error: \\t\\tOut-of-sample error:\n",
    "MAE: {0}\\t\\tMAE: {1}\n",
    "MSE: {2}\\t\\tMSE: {3}\n",
    "RMSE: {4}\\t\\tRMSE: {5}\\n\\n'''.format(train_mae, test_mae, train_mse, test_mse, train_rmse, test_rmse))\n",
    "    \n",
    "\n",
    "    "
   ]
  },
  {
   "cell_type": "markdown",
   "metadata": {},
   "source": [
    "As expected, the Random Tree Regressor model is a much better fit. Not only has out error metric decreased, but the difference between our out-of-sample and in-sample errors is much smaller, which suggests a model that can generalize well to external data."
   ]
  },
  {
   "cell_type": "markdown",
   "metadata": {},
   "source": [
    "# Future Steps\n",
    "\n",
    "- Normalize features\n",
    "- Calculate addition features:\n",
    "    - An index combining temperature, humidity, and wind speed\n",
    "- Try predicting casual and registered rather than cnt"
   ]
  },
  {
   "cell_type": "code",
   "execution_count": null,
   "metadata": {},
   "outputs": [],
   "source": []
  }
 ],
 "metadata": {
  "kernelspec": {
   "display_name": "Python 3",
   "language": "python",
   "name": "python3"
  },
  "language_info": {
   "codemirror_mode": {
    "name": "ipython",
    "version": 3
   },
   "file_extension": ".py",
   "mimetype": "text/x-python",
   "name": "python",
   "nbconvert_exporter": "python",
   "pygments_lexer": "ipython3",
   "version": "3.7.1"
  }
 },
 "nbformat": 4,
 "nbformat_minor": 1
}
